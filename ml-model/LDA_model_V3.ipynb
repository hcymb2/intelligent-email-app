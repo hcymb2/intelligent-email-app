{
 "metadata": {
  "language_info": {
   "codemirror_mode": {
    "name": "ipython",
    "version": 3
   },
   "file_extension": ".py",
   "mimetype": "text/x-python",
   "name": "python",
   "nbconvert_exporter": "python",
   "pygments_lexer": "ipython3",
   "version": "3.8.2"
  },
  "orig_nbformat": 2,
  "kernelspec": {
   "name": "python382jvsc74a57bd0ff224a8e016133c732bff7b83427d9deb93eb61e7bc9c073e061736a07c13a01",
   "display_name": "Python 3.8.2 64-bit ('.venv': venv)"
  },
  "metadata": {
   "interpreter": {
    "hash": "00d92c41ab43682f3a310819cfe35bc68a1e8a7bd76c46b521da3bfcdffd9632"
   }
  }
 },
 "nbformat": 4,
 "nbformat_minor": 2,
 "cells": [
  {
   "cell_type": "code",
   "execution_count": null,
   "metadata": {},
   "outputs": [],
   "source": [
    "import numpy as np\n",
    "import pandas as pd\n",
    "import re, gensim, spacy, nltk\n",
    "\n",
    "from nltk.corpus import stopwords\n",
    "\n",
    "# Sklearn\n",
    "from sklearn.decomposition import LatentDirichletAllocation, TruncatedSVD\n",
    "from sklearn.feature_extraction.text import CountVectorizer, TfidfVectorizer\n",
    "from sklearn.model_selection import GridSearchCV\n",
    "from pprint import pprint\n",
    "\n",
    "\n",
    "# Plotting tools\n",
    "import pyLDAvis\n",
    "import pyLDAvis.gensim_models  # don't skip this\n",
    "import matplotlib.pyplot as plt\n",
    "%matplotlib inline\n"
   ]
  },
  {
   "cell_type": "code",
   "execution_count": null,
   "metadata": {},
   "outputs": [],
   "source": [
    "# NLTK Stop words\n",
    "# stop_words = stopwords.words('english')\n",
    "\n",
    "nltk.download('words')\n",
    "words = set(nltk.corpus.words.words())"
   ]
  },
  {
   "cell_type": "code",
   "execution_count": null,
   "metadata": {},
   "outputs": [],
   "source": [
    "email_dataset = pd.read_csv(\"../csv-dataset/custom_email_dataset.csv\") \n",
    "email_dataset.head()"
   ]
  },
  {
   "cell_type": "code",
   "execution_count": null,
   "metadata": {},
   "outputs": [],
   "source": [
    "email_bodies=email_dataset.drop(['DateTime','From','To','Subject'], axis = 1)\n",
    "email_bodies.head()"
   ]
  },
  {
   "cell_type": "code",
   "execution_count": null,
   "metadata": {},
   "outputs": [],
   "source": [
    "# Convert to list\n",
    "data = email_bodies.Message_body\n",
    "pprint(data[:1])\n"
   ]
  },
  {
   "cell_type": "code",
   "execution_count": null,
   "metadata": {
    "tags": []
   },
   "outputs": [],
   "source": [
    "# Using regex expressions to get rid of distractions\n",
    "# Remove <p> and</p> tags\n",
    "data = [re.sub(\"<p[^>]*>\", \"\", sent) for sent in data]\n",
    "data = [re.sub(\"</?p[^>]*>\", \"\", sent) for sent in data]\n",
    "\n",
    "# Remove non alphanumeric and underscore values\n",
    "data = [re.sub(r'[^\\w]', ' ', sent) for sent in data]\n",
    "\n",
    "# each document is in a list, convert to string\n",
    "data = [''.join(str(sent)) for sent in data]\n"
   ]
  },
  {
   "cell_type": "code",
   "execution_count": null,
   "metadata": {
    "tags": []
   },
   "outputs": [],
   "source": [
    "data[0]"
   ]
  },
  {
   "cell_type": "code",
   "execution_count": null,
   "metadata": {
    "tags": [
     "outputPrepend"
    ]
   },
   "outputs": [],
   "source": [
    "def sent_to_words(sentences):\n",
    "    for sentence in sentences:\n",
    "        yield(gensim.utils.simple_preprocess(str(sentence), deacc=True))  # deacc=True removes punctuations\n",
    "\n",
    "data_words = list(sent_to_words(data))\n",
    "pprint(data_words)"
   ]
  },
  {
   "cell_type": "code",
   "execution_count": null,
   "metadata": {},
   "outputs": [],
   "source": [
    "# Build the bigram and trigram models\n",
    "bigram = gensim.models.Phrases(data_words, min_count=5, threshold=100) # higher threshold fewer phrases.\n",
    "trigram = gensim.models.Phrases(bigram[data_words], threshold=100)  \n",
    "\n",
    "# Faster way to get a sentence clubbed as a trigram/bigram\n",
    "bigram_mod = gensim.models.phrases.Phraser(bigram)\n",
    "trigram_mod = gensim.models.phrases.Phraser(trigram)\n",
    "\n",
    "# See bigram example\n",
    "print('Bigrams Generated: \\n')\n",
    "print(bigram_mod[data_words[0]])\n",
    "\n",
    "print('\\n\\n Trigrams Generated: \\n')\n",
    "# See trigram example\n",
    "print(trigram_mod[bigram_mod[data_words[0]]])"
   ]
  },
  {
   "cell_type": "code",
   "execution_count": 395,
   "metadata": {},
   "outputs": [],
   "source": [
    "# Define functions for stopwords, bigrams, trigrams and lemmatization\n",
    "\n",
    "nlp = spacy.load(\"en_core_web_sm\",disable=['parser', 'ner']) \n",
    " \n",
    "# Adding additional stopwords\n",
    "new_stopwords= ['dear', 'thanks','regards', 'hello','hi', 'bye','goodbye', 'say', 'https',  'www', 'freecodecamp', 'org', 'news', 'five', 'links', 'worth', 'time', 'teach', 'read', 'email', 'week', 'minute', 'twitter', 'learn', 'course', 'quincy', 'larson', 'code', 'happy', 'ystttlxqo', 'nnegosgnvb', 'donate', 'build', 'teacher', 'hour', 'start', 'free', 'new', 'thing', 'use', 'tip']\n",
    "\n",
    "for word in new_stopwords:\n",
    "    nlp.Defaults.stop_words.add(word) \n",
    "    nlp.vocab[word].is_stop = True\n",
    "    \n",
    "def remove_stopwords_spacy(texts):\n",
    "    return [[word.text for word in nlp(str(text)) if not word.is_stop] for text in texts]\n",
    "\n",
    "def remove_stopwords_gensim(texts):\n",
    "    return [[word for word in simple_preprocess(str(doc)) if word not in stop_words] for doc in texts]\n",
    "\n",
    "def remove_non_vocab(texts):\n",
    "    return [[word for word in doc if word in words or not word.isalpha()] for doc in texts]\n",
    "\n",
    "def make_bigrams(texts):\n",
    "    return [bigram_mod[doc] for doc in texts]\n",
    "\n",
    "def make_trigrams(texts):\n",
    "    return [trigram_mod[bigram_mod[doc]] for doc in texts]\n",
    "\n",
    "def lemmatization(texts, allowed_postags=['NOUN', 'ADJ', 'VERB', 'ADV']):\n",
    "    texts_out = []\n",
    "    for sent in texts:\n",
    "        doc = nlp(\" \".join(sent)) \n",
    "        texts_out.append(\" \".join([token.lemma_ if token.lemma_ not in ['-PRON-'] else '' for           token in doc if token.pos_ in allowed_postags]))\n",
    "    return texts_out"
   ]
  },
  {
   "cell_type": "code",
   "execution_count": 396,
   "metadata": {},
   "outputs": [],
   "source": [
    "# # Remove Stop Words\n",
    "data_words_nostops = remove_stopwords_spacy(data_words)\n",
    "\n",
    "# #remove words that only occur once to make process faster\n",
    "# #all_tokens = sum(data_words_nostops, [])\n",
    "# #tokens_once = set(word for word in set(all_tokens) if all_tokens.count(word) == 1)\n",
    "# #text_no_single_words = [[term for term in words if term not in tokens_once] for words in data_words_nostops]\n",
    "\n",
    "#data_vocab_words=remove_non_vocab(data_words_nostops)\n",
    "\n",
    "# # Form Bigrams\n",
    "# data_words_bigrams = make_bigrams(data_vocab_words)\n",
    "\n",
    "# Do lemmatization keeping only noun, adj, vb, adv\n",
    "data_lemmatized = lemmatization(data_words_nostops, allowed_postags=['NOUN', 'ADJ', 'VERB', 'ADV'])\n"
   ]
  },
  {
   "cell_type": "code",
   "execution_count": 397,
   "metadata": {
    "tags": []
   },
   "outputs": [
    {
     "output_type": "stream",
     "name": "stdout",
     "text": [
      "building video game fun play depth unity beginner start game install unity program game physics animate character enemy ai youtube game development beginner unity website wordpress relatively easy tool building blog ecommerce site elaborate application host wordpress site add custom feature plugin design look want youtube website wordpress hear branch science call game theory tutorial evolutionary game theory work ecosystem simulation python good old fashion math introduction evolutionary game theory kubernete powerful devop tool manage software cloud haven hear year old say search find job opening mention kubernete lot company sergio recently pass linux foundation exam certify kubernete application share tip certify kubernete application dhawal update massive list course ivy league university online browsable list ivy league online course quick update make steady progress datum science curriculum expansion certification advanced mathematic computer science machine learn far people donate ensure nonprofit budget need hire experienced teacher involve building datum science curriculum advanced math machine learn obsess finish skill year ve realize good thing come way able finish start derek game creator spelunky share useful thing com ossia email aren\n"
     ]
    }
   ],
   "source": [
    "print(data_lemmatized[0])"
   ]
  },
  {
   "cell_type": "code",
   "execution_count": 398,
   "metadata": {},
   "outputs": [],
   "source": [
    "# Create Document-Word matrix\n",
    "\n",
    "vectorizer = CountVectorizer(analyzer='word',       \n",
    "                             min_df=1, # minimum reqd occurences of a word \n",
    "                             stop_words='english', # remove stop words\n",
    "                             lowercase=True, # convert all words to lowercase\n",
    "                             token_pattern='[a-zA-Z0-9]{3,}', # num chars > 3\n",
    "                             # max_features=50000,  # max number of uniq words\n",
    "                             )\n"
   ]
  },
  {
   "cell_type": "code",
   "execution_count": 399,
   "metadata": {},
   "outputs": [],
   "source": [
    "data_vectorized = vectorizer.fit_transform(data_lemmatized)"
   ]
  },
  {
   "cell_type": "code",
   "execution_count": 400,
   "metadata": {},
   "outputs": [
    {
     "output_type": "stream",
     "name": "stdout",
     "text": [
      "LatentDirichletAllocation(batch_size=100, learning_method='online',\n                          n_components=5, n_jobs=-1, random_state=100)\n"
     ]
    }
   ],
   "source": [
    "# Build LDA Model with SK learn\n",
    "# Build LDA Model\n",
    "lda_model = LatentDirichletAllocation(n_components=5,# Number of topics\n",
    "                                      max_iter=10,    # Max learning iterations\n",
    "                                      learning_method='online',   \n",
    "                                      random_state=100, # Random state\n",
    "                                      batch_size=100,   # n docs in each learning iter\n",
    "                                      evaluate_every = -1, # compute perplexity every n iters, default: Don't\n",
    "                                      n_jobs = -1,        # Use all available CPUs\n",
    "                                      total_samples=1000000.0\n",
    "                                     )\n",
    "\n",
    "lda_output = lda_model.fit_transform(data_vectorized)\n",
    "print(lda_model)  # Model attributes\n"
   ]
  },
  {
   "cell_type": "code",
   "execution_count": 401,
   "metadata": {},
   "outputs": [
    {
     "output_type": "stream",
     "name": "stdout",
     "text": [
      "Log Likelihood:  -80639.13609280449\nPerplexity:  1701.1073407601252\n{'batch_size': 100,\n 'doc_topic_prior': None,\n 'evaluate_every': -1,\n 'learning_decay': 0.7,\n 'learning_method': 'online',\n 'learning_offset': 10.0,\n 'max_doc_update_iter': 100,\n 'max_iter': 10,\n 'mean_change_tol': 0.001,\n 'n_components': 5,\n 'n_jobs': -1,\n 'perp_tol': 0.1,\n 'random_state': 100,\n 'topic_word_prior': None,\n 'total_samples': 1000000.0,\n 'verbose': 0}\n"
     ]
    }
   ],
   "source": [
    "# Log Likelihood: Higher the better\n",
    "print(\"Log Likelihood: \", lda_model.score(data_vectorized))\n",
    "# Perplexity: Lower the better. Perplexity = exp(-1. * log-likelihood per word)\n",
    "print(\"Perplexity: \", lda_model.perplexity(data_vectorized))\n",
    "# See model parameters\n",
    "pprint(lda_model.get_params())"
   ]
  },
  {
   "cell_type": "code",
   "execution_count": 402,
   "metadata": {},
   "outputs": [
    {
     "output_type": "execute_result",
     "data": {
      "text/plain": [
       "GridSearchCV(estimator=LatentDirichletAllocation(learning_method='online',\n",
       "                                                 learning_offset=50.0,\n",
       "                                                 max_iter=5, random_state=0),\n",
       "             param_grid={'learning_decay': [0.5, 0.7, 0.9],\n",
       "                         'n_components': [3, 5, 7, 8]})"
      ]
     },
     "metadata": {},
     "execution_count": 402
    }
   ],
   "source": [
    "# Define Search Param\n",
    "search_params = {'n_components': [3, 5, 7, 8], 'learning_decay': [.5, .7, .9]}\n",
    "\n",
    "# Init the Model\n",
    "lda = LatentDirichletAllocation(max_iter=5, learning_method='online', learning_offset=50.,random_state=0)\n",
    "\n",
    "# Init Grid Search Class\n",
    "model = GridSearchCV(lda, param_grid=search_params)\n",
    "\n",
    "# Do the Grid Search\n",
    "model.fit(data_vectorized)\n",
    "\n"
   ]
  },
  {
   "cell_type": "code",
   "execution_count": 403,
   "metadata": {},
   "outputs": [
    {
     "output_type": "stream",
     "name": "stdout",
     "text": [
      "Best Model's Params:  {'learning_decay': 0.7, 'n_components': 3}\nBest Log Likelihood Score:  -18386.11022892336\nModel Perplexity:  1558.8021781796087\n"
     ]
    }
   ],
   "source": [
    "# Best Model\n",
    "best_lda_model = model.best_estimator_\n",
    "# Model Parameters\n",
    "print(\"Best Model's Params: \", model.best_params_)\n",
    "# Log Likelihood Score\n",
    "print(\"Best Log Likelihood Score: \", model.best_score_)\n",
    "# Perplexity\n",
    "print(\"Model Perplexity: \", best_lda_model.perplexity(data_vectorized))"
   ]
  },
  {
   "cell_type": "code",
   "execution_count": 404,
   "metadata": {},
   "outputs": [
    {
     "output_type": "execute_result",
     "data": {
      "text/plain": [
       "<pandas.io.formats.style.Styler at 0x15f021bddc0>"
      ],
      "text/html": "<style  type=\"text/css\" >\n#T_e3b58_row0_col0,#T_e3b58_row1_col0,#T_e3b58_row2_col0,#T_e3b58_row3_col0,#T_e3b58_row4_col0,#T_e3b58_row5_col0,#T_e3b58_row6_col0,#T_e3b58_row7_col0,#T_e3b58_row8_col0,#T_e3b58_row9_col0,#T_e3b58_row10_col0,#T_e3b58_row11_col0,#T_e3b58_row12_col0,#T_e3b58_row13_col0,#T_e3b58_row14_col0,#T_e3b58_row15_col0,#T_e3b58_row16_col0,#T_e3b58_row17_col0,#T_e3b58_row18_col0,#T_e3b58_row19_col0,#T_e3b58_row20_col0,#T_e3b58_row21_col0,#T_e3b58_row22_col0,#T_e3b58_row23_col0,#T_e3b58_row24_col0,#T_e3b58_row25_col0,#T_e3b58_row26_col0,#T_e3b58_row27_col0,#T_e3b58_row28_col0,#T_e3b58_row29_col0,#T_e3b58_row30_col0,#T_e3b58_row31_col0,#T_e3b58_row32_col0,#T_e3b58_row33_col0,#T_e3b58_row34_col0,#T_e3b58_row35_col0,#T_e3b58_row36_col0,#T_e3b58_row37_col0,#T_e3b58_row38_col0,#T_e3b58_row39_col0,#T_e3b58_row40_col0,#T_e3b58_row41_col0,#T_e3b58_row42_col0,#T_e3b58_row43_col0,#T_e3b58_row44_col0,#T_e3b58_row45_col0,#T_e3b58_row46_col0,#T_e3b58_row47_col0,#T_e3b58_row48_col0,#T_e3b58_row49_col0,#T_e3b58_row50_col0,#T_e3b58_row51_col0,#T_e3b58_row52_col0,#T_e3b58_row53_col0,#T_e3b58_row54_col0,#T_e3b58_row55_col0,#T_e3b58_row56_col0,#T_e3b58_row57_col0,#T_e3b58_row58_col0,#T_e3b58_row59_col0,#T_e3b58_row60_col0,#T_e3b58_row61_col0,#T_e3b58_row62_col0,#T_e3b58_row63_col0,#T_e3b58_row64_col0,#T_e3b58_row65_col0,#T_e3b58_row66_col0,#T_e3b58_row67_col0,#T_e3b58_row68_col0,#T_e3b58_row69_col0,#T_e3b58_row70_col0,#T_e3b58_row71_col0,#T_e3b58_row72_col0,#T_e3b58_row73_col0,#T_e3b58_row74_col0,#T_e3b58_row75_col0,#T_e3b58_row76_col0,#T_e3b58_row77_col0,#T_e3b58_row78_col0,#T_e3b58_row79_col0,#T_e3b58_row80_col0,#T_e3b58_row81_col0,#T_e3b58_row82_col0,#T_e3b58_row83_col0,#T_e3b58_row84_col0,#T_e3b58_row85_col0,#T_e3b58_row86_col0,#T_e3b58_row87_col0,#T_e3b58_row88_col0,#T_e3b58_row89_col0,#T_e3b58_row90_col0,#T_e3b58_row91_col0,#T_e3b58_row92_col0,#T_e3b58_row93_col0,#T_e3b58_row94_col0,#T_e3b58_row95_col0,#T_e3b58_row96_col0,#T_e3b58_row97_col0,#T_e3b58_row98_col0,#T_e3b58_row99_col0,#T_e3b58_row100_col0,#T_e3b58_row101_col0,#T_e3b58_row102_col0,#T_e3b58_row103_col0,#T_e3b58_row104_col0{\n            color:  green;\n            font-weight:  700;\n        }#T_e3b58_row0_col1,#T_e3b58_row0_col2,#T_e3b58_row0_col3,#T_e3b58_row1_col1,#T_e3b58_row1_col2,#T_e3b58_row1_col3,#T_e3b58_row2_col1,#T_e3b58_row2_col2,#T_e3b58_row2_col3,#T_e3b58_row3_col1,#T_e3b58_row3_col2,#T_e3b58_row3_col3,#T_e3b58_row4_col1,#T_e3b58_row4_col2,#T_e3b58_row4_col3,#T_e3b58_row5_col1,#T_e3b58_row5_col2,#T_e3b58_row5_col3,#T_e3b58_row6_col1,#T_e3b58_row6_col2,#T_e3b58_row6_col3,#T_e3b58_row7_col1,#T_e3b58_row7_col2,#T_e3b58_row7_col3,#T_e3b58_row8_col1,#T_e3b58_row8_col2,#T_e3b58_row8_col3,#T_e3b58_row9_col1,#T_e3b58_row9_col2,#T_e3b58_row9_col3,#T_e3b58_row10_col1,#T_e3b58_row10_col2,#T_e3b58_row10_col3,#T_e3b58_row11_col1,#T_e3b58_row11_col2,#T_e3b58_row11_col3,#T_e3b58_row12_col1,#T_e3b58_row12_col2,#T_e3b58_row12_col3,#T_e3b58_row13_col1,#T_e3b58_row13_col2,#T_e3b58_row13_col3,#T_e3b58_row14_col1,#T_e3b58_row14_col2,#T_e3b58_row14_col3,#T_e3b58_row15_col1,#T_e3b58_row15_col2,#T_e3b58_row15_col3,#T_e3b58_row16_col1,#T_e3b58_row16_col2,#T_e3b58_row16_col3,#T_e3b58_row17_col1,#T_e3b58_row17_col2,#T_e3b58_row17_col3,#T_e3b58_row18_col1,#T_e3b58_row18_col2,#T_e3b58_row18_col3,#T_e3b58_row19_col1,#T_e3b58_row19_col2,#T_e3b58_row19_col3,#T_e3b58_row20_col1,#T_e3b58_row20_col2,#T_e3b58_row20_col3,#T_e3b58_row21_col1,#T_e3b58_row21_col2,#T_e3b58_row21_col3,#T_e3b58_row22_col1,#T_e3b58_row22_col2,#T_e3b58_row22_col3,#T_e3b58_row23_col1,#T_e3b58_row23_col2,#T_e3b58_row23_col3,#T_e3b58_row24_col1,#T_e3b58_row24_col2,#T_e3b58_row24_col3,#T_e3b58_row25_col1,#T_e3b58_row25_col2,#T_e3b58_row25_col3,#T_e3b58_row26_col1,#T_e3b58_row26_col2,#T_e3b58_row26_col3,#T_e3b58_row27_col1,#T_e3b58_row27_col2,#T_e3b58_row27_col3,#T_e3b58_row28_col1,#T_e3b58_row28_col2,#T_e3b58_row28_col3,#T_e3b58_row29_col1,#T_e3b58_row29_col2,#T_e3b58_row29_col3,#T_e3b58_row30_col1,#T_e3b58_row30_col2,#T_e3b58_row30_col3,#T_e3b58_row31_col1,#T_e3b58_row31_col2,#T_e3b58_row31_col3,#T_e3b58_row32_col1,#T_e3b58_row32_col2,#T_e3b58_row32_col3,#T_e3b58_row33_col1,#T_e3b58_row33_col2,#T_e3b58_row33_col3,#T_e3b58_row34_col1,#T_e3b58_row34_col2,#T_e3b58_row34_col3,#T_e3b58_row35_col1,#T_e3b58_row35_col2,#T_e3b58_row35_col3,#T_e3b58_row36_col1,#T_e3b58_row36_col2,#T_e3b58_row36_col3,#T_e3b58_row37_col1,#T_e3b58_row37_col2,#T_e3b58_row37_col3,#T_e3b58_row38_col1,#T_e3b58_row38_col2,#T_e3b58_row38_col3,#T_e3b58_row39_col1,#T_e3b58_row39_col2,#T_e3b58_row39_col3,#T_e3b58_row40_col1,#T_e3b58_row40_col2,#T_e3b58_row40_col3,#T_e3b58_row41_col1,#T_e3b58_row41_col2,#T_e3b58_row41_col3,#T_e3b58_row42_col1,#T_e3b58_row42_col2,#T_e3b58_row42_col3,#T_e3b58_row43_col1,#T_e3b58_row43_col2,#T_e3b58_row43_col3,#T_e3b58_row44_col1,#T_e3b58_row44_col2,#T_e3b58_row44_col3,#T_e3b58_row45_col1,#T_e3b58_row45_col2,#T_e3b58_row45_col3,#T_e3b58_row46_col1,#T_e3b58_row46_col2,#T_e3b58_row46_col3,#T_e3b58_row47_col1,#T_e3b58_row47_col2,#T_e3b58_row47_col3,#T_e3b58_row48_col1,#T_e3b58_row48_col2,#T_e3b58_row48_col3,#T_e3b58_row49_col1,#T_e3b58_row49_col2,#T_e3b58_row49_col3,#T_e3b58_row50_col1,#T_e3b58_row50_col2,#T_e3b58_row50_col3,#T_e3b58_row51_col1,#T_e3b58_row51_col2,#T_e3b58_row51_col3,#T_e3b58_row52_col1,#T_e3b58_row52_col2,#T_e3b58_row52_col3,#T_e3b58_row53_col1,#T_e3b58_row53_col2,#T_e3b58_row53_col3,#T_e3b58_row54_col1,#T_e3b58_row54_col2,#T_e3b58_row54_col3,#T_e3b58_row55_col1,#T_e3b58_row55_col2,#T_e3b58_row55_col3,#T_e3b58_row56_col1,#T_e3b58_row56_col2,#T_e3b58_row56_col3,#T_e3b58_row57_col1,#T_e3b58_row57_col2,#T_e3b58_row57_col3,#T_e3b58_row58_col1,#T_e3b58_row58_col2,#T_e3b58_row58_col3,#T_e3b58_row59_col1,#T_e3b58_row59_col2,#T_e3b58_row59_col3,#T_e3b58_row60_col1,#T_e3b58_row60_col2,#T_e3b58_row60_col3,#T_e3b58_row61_col1,#T_e3b58_row61_col2,#T_e3b58_row61_col3,#T_e3b58_row62_col1,#T_e3b58_row62_col2,#T_e3b58_row62_col3,#T_e3b58_row63_col1,#T_e3b58_row63_col2,#T_e3b58_row63_col3,#T_e3b58_row64_col1,#T_e3b58_row64_col2,#T_e3b58_row64_col3,#T_e3b58_row65_col1,#T_e3b58_row65_col2,#T_e3b58_row65_col3,#T_e3b58_row66_col1,#T_e3b58_row66_col2,#T_e3b58_row66_col3,#T_e3b58_row67_col1,#T_e3b58_row67_col2,#T_e3b58_row67_col3,#T_e3b58_row68_col1,#T_e3b58_row68_col2,#T_e3b58_row68_col3,#T_e3b58_row69_col1,#T_e3b58_row69_col2,#T_e3b58_row69_col3,#T_e3b58_row70_col1,#T_e3b58_row70_col2,#T_e3b58_row70_col3,#T_e3b58_row71_col1,#T_e3b58_row71_col2,#T_e3b58_row71_col3,#T_e3b58_row72_col1,#T_e3b58_row72_col2,#T_e3b58_row72_col3,#T_e3b58_row73_col1,#T_e3b58_row73_col2,#T_e3b58_row73_col3,#T_e3b58_row74_col1,#T_e3b58_row74_col2,#T_e3b58_row74_col3,#T_e3b58_row75_col1,#T_e3b58_row75_col2,#T_e3b58_row75_col3,#T_e3b58_row76_col1,#T_e3b58_row76_col2,#T_e3b58_row76_col3,#T_e3b58_row77_col1,#T_e3b58_row77_col2,#T_e3b58_row77_col3,#T_e3b58_row78_col1,#T_e3b58_row78_col2,#T_e3b58_row78_col3,#T_e3b58_row79_col1,#T_e3b58_row79_col2,#T_e3b58_row79_col3,#T_e3b58_row80_col1,#T_e3b58_row80_col2,#T_e3b58_row80_col3,#T_e3b58_row81_col1,#T_e3b58_row81_col2,#T_e3b58_row81_col3,#T_e3b58_row82_col1,#T_e3b58_row82_col2,#T_e3b58_row82_col3,#T_e3b58_row83_col1,#T_e3b58_row83_col2,#T_e3b58_row83_col3,#T_e3b58_row84_col1,#T_e3b58_row84_col2,#T_e3b58_row84_col3,#T_e3b58_row85_col1,#T_e3b58_row85_col2,#T_e3b58_row85_col3,#T_e3b58_row86_col1,#T_e3b58_row86_col2,#T_e3b58_row86_col3,#T_e3b58_row87_col1,#T_e3b58_row87_col2,#T_e3b58_row87_col3,#T_e3b58_row88_col1,#T_e3b58_row88_col2,#T_e3b58_row88_col3,#T_e3b58_row89_col1,#T_e3b58_row89_col2,#T_e3b58_row89_col3,#T_e3b58_row90_col1,#T_e3b58_row90_col2,#T_e3b58_row90_col3,#T_e3b58_row91_col1,#T_e3b58_row91_col2,#T_e3b58_row91_col3,#T_e3b58_row92_col1,#T_e3b58_row92_col2,#T_e3b58_row92_col3,#T_e3b58_row93_col1,#T_e3b58_row93_col2,#T_e3b58_row93_col3,#T_e3b58_row94_col1,#T_e3b58_row94_col2,#T_e3b58_row94_col3,#T_e3b58_row95_col1,#T_e3b58_row95_col2,#T_e3b58_row95_col3,#T_e3b58_row96_col1,#T_e3b58_row96_col2,#T_e3b58_row96_col3,#T_e3b58_row97_col1,#T_e3b58_row97_col2,#T_e3b58_row97_col3,#T_e3b58_row98_col1,#T_e3b58_row98_col2,#T_e3b58_row98_col3,#T_e3b58_row99_col1,#T_e3b58_row99_col2,#T_e3b58_row99_col3,#T_e3b58_row100_col1,#T_e3b58_row100_col2,#T_e3b58_row100_col3,#T_e3b58_row101_col1,#T_e3b58_row101_col2,#T_e3b58_row101_col3,#T_e3b58_row102_col1,#T_e3b58_row102_col2,#T_e3b58_row102_col3,#T_e3b58_row103_col1,#T_e3b58_row103_col2,#T_e3b58_row103_col3,#T_e3b58_row104_col1,#T_e3b58_row104_col2,#T_e3b58_row104_col3{\n            color:  black;\n            font-weight:  400;\n        }</style><table id=\"T_e3b58_\" ><thead>    <tr>        <th class=\"blank level0\" ></th>        <th class=\"col_heading level0 col0\" >Topic0</th>        <th class=\"col_heading level0 col1\" >Topic1</th>        <th class=\"col_heading level0 col2\" >Topic2</th>        <th class=\"col_heading level0 col3\" >dominant_topic</th>    </tr></thead><tbody>\n                <tr>\n                        <th id=\"T_e3b58_level0_row0\" class=\"row_heading level0 row0\" >Doc0</th>\n                        <td id=\"T_e3b58_row0_col0\" class=\"data row0 col0\" >1.000000</td>\n                        <td id=\"T_e3b58_row0_col1\" class=\"data row0 col1\" >0.000000</td>\n                        <td id=\"T_e3b58_row0_col2\" class=\"data row0 col2\" >0.000000</td>\n                        <td id=\"T_e3b58_row0_col3\" class=\"data row0 col3\" >0</td>\n            </tr>\n            <tr>\n                        <th id=\"T_e3b58_level0_row1\" class=\"row_heading level0 row1\" >Doc1</th>\n                        <td id=\"T_e3b58_row1_col0\" class=\"data row1 col0\" >1.000000</td>\n                        <td id=\"T_e3b58_row1_col1\" class=\"data row1 col1\" >0.000000</td>\n                        <td id=\"T_e3b58_row1_col2\" class=\"data row1 col2\" >0.000000</td>\n                        <td id=\"T_e3b58_row1_col3\" class=\"data row1 col3\" >0</td>\n            </tr>\n            <tr>\n                        <th id=\"T_e3b58_level0_row2\" class=\"row_heading level0 row2\" >Doc2</th>\n                        <td id=\"T_e3b58_row2_col0\" class=\"data row2 col0\" >1.000000</td>\n                        <td id=\"T_e3b58_row2_col1\" class=\"data row2 col1\" >0.000000</td>\n                        <td id=\"T_e3b58_row2_col2\" class=\"data row2 col2\" >0.000000</td>\n                        <td id=\"T_e3b58_row2_col3\" class=\"data row2 col3\" >0</td>\n            </tr>\n            <tr>\n                        <th id=\"T_e3b58_level0_row3\" class=\"row_heading level0 row3\" >Doc3</th>\n                        <td id=\"T_e3b58_row3_col0\" class=\"data row3 col0\" >1.000000</td>\n                        <td id=\"T_e3b58_row3_col1\" class=\"data row3 col1\" >0.000000</td>\n                        <td id=\"T_e3b58_row3_col2\" class=\"data row3 col2\" >0.000000</td>\n                        <td id=\"T_e3b58_row3_col3\" class=\"data row3 col3\" >0</td>\n            </tr>\n            <tr>\n                        <th id=\"T_e3b58_level0_row4\" class=\"row_heading level0 row4\" >Doc4</th>\n                        <td id=\"T_e3b58_row4_col0\" class=\"data row4 col0\" >1.000000</td>\n                        <td id=\"T_e3b58_row4_col1\" class=\"data row4 col1\" >0.000000</td>\n                        <td id=\"T_e3b58_row4_col2\" class=\"data row4 col2\" >0.000000</td>\n                        <td id=\"T_e3b58_row4_col3\" class=\"data row4 col3\" >0</td>\n            </tr>\n            <tr>\n                        <th id=\"T_e3b58_level0_row5\" class=\"row_heading level0 row5\" >Doc5</th>\n                        <td id=\"T_e3b58_row5_col0\" class=\"data row5 col0\" >0.990000</td>\n                        <td id=\"T_e3b58_row5_col1\" class=\"data row5 col1\" >0.000000</td>\n                        <td id=\"T_e3b58_row5_col2\" class=\"data row5 col2\" >0.000000</td>\n                        <td id=\"T_e3b58_row5_col3\" class=\"data row5 col3\" >0</td>\n            </tr>\n            <tr>\n                        <th id=\"T_e3b58_level0_row6\" class=\"row_heading level0 row6\" >Doc6</th>\n                        <td id=\"T_e3b58_row6_col0\" class=\"data row6 col0\" >1.000000</td>\n                        <td id=\"T_e3b58_row6_col1\" class=\"data row6 col1\" >0.000000</td>\n                        <td id=\"T_e3b58_row6_col2\" class=\"data row6 col2\" >0.000000</td>\n                        <td id=\"T_e3b58_row6_col3\" class=\"data row6 col3\" >0</td>\n            </tr>\n            <tr>\n                        <th id=\"T_e3b58_level0_row7\" class=\"row_heading level0 row7\" >Doc7</th>\n                        <td id=\"T_e3b58_row7_col0\" class=\"data row7 col0\" >0.990000</td>\n                        <td id=\"T_e3b58_row7_col1\" class=\"data row7 col1\" >0.000000</td>\n                        <td id=\"T_e3b58_row7_col2\" class=\"data row7 col2\" >0.000000</td>\n                        <td id=\"T_e3b58_row7_col3\" class=\"data row7 col3\" >0</td>\n            </tr>\n            <tr>\n                        <th id=\"T_e3b58_level0_row8\" class=\"row_heading level0 row8\" >Doc8</th>\n                        <td id=\"T_e3b58_row8_col0\" class=\"data row8 col0\" >0.990000</td>\n                        <td id=\"T_e3b58_row8_col1\" class=\"data row8 col1\" >0.000000</td>\n                        <td id=\"T_e3b58_row8_col2\" class=\"data row8 col2\" >0.000000</td>\n                        <td id=\"T_e3b58_row8_col3\" class=\"data row8 col3\" >0</td>\n            </tr>\n            <tr>\n                        <th id=\"T_e3b58_level0_row9\" class=\"row_heading level0 row9\" >Doc9</th>\n                        <td id=\"T_e3b58_row9_col0\" class=\"data row9 col0\" >0.990000</td>\n                        <td id=\"T_e3b58_row9_col1\" class=\"data row9 col1\" >0.000000</td>\n                        <td id=\"T_e3b58_row9_col2\" class=\"data row9 col2\" >0.000000</td>\n                        <td id=\"T_e3b58_row9_col3\" class=\"data row9 col3\" >0</td>\n            </tr>\n            <tr>\n                        <th id=\"T_e3b58_level0_row10\" class=\"row_heading level0 row10\" >Doc10</th>\n                        <td id=\"T_e3b58_row10_col0\" class=\"data row10 col0\" >0.990000</td>\n                        <td id=\"T_e3b58_row10_col1\" class=\"data row10 col1\" >0.000000</td>\n                        <td id=\"T_e3b58_row10_col2\" class=\"data row10 col2\" >0.000000</td>\n                        <td id=\"T_e3b58_row10_col3\" class=\"data row10 col3\" >0</td>\n            </tr>\n            <tr>\n                        <th id=\"T_e3b58_level0_row11\" class=\"row_heading level0 row11\" >Doc11</th>\n                        <td id=\"T_e3b58_row11_col0\" class=\"data row11 col0\" >0.990000</td>\n                        <td id=\"T_e3b58_row11_col1\" class=\"data row11 col1\" >0.000000</td>\n                        <td id=\"T_e3b58_row11_col2\" class=\"data row11 col2\" >0.000000</td>\n                        <td id=\"T_e3b58_row11_col3\" class=\"data row11 col3\" >0</td>\n            </tr>\n            <tr>\n                        <th id=\"T_e3b58_level0_row12\" class=\"row_heading level0 row12\" >Doc12</th>\n                        <td id=\"T_e3b58_row12_col0\" class=\"data row12 col0\" >0.990000</td>\n                        <td id=\"T_e3b58_row12_col1\" class=\"data row12 col1\" >0.000000</td>\n                        <td id=\"T_e3b58_row12_col2\" class=\"data row12 col2\" >0.000000</td>\n                        <td id=\"T_e3b58_row12_col3\" class=\"data row12 col3\" >0</td>\n            </tr>\n            <tr>\n                        <th id=\"T_e3b58_level0_row13\" class=\"row_heading level0 row13\" >Doc13</th>\n                        <td id=\"T_e3b58_row13_col0\" class=\"data row13 col0\" >1.000000</td>\n                        <td id=\"T_e3b58_row13_col1\" class=\"data row13 col1\" >0.000000</td>\n                        <td id=\"T_e3b58_row13_col2\" class=\"data row13 col2\" >0.000000</td>\n                        <td id=\"T_e3b58_row13_col3\" class=\"data row13 col3\" >0</td>\n            </tr>\n            <tr>\n                        <th id=\"T_e3b58_level0_row14\" class=\"row_heading level0 row14\" >Doc14</th>\n                        <td id=\"T_e3b58_row14_col0\" class=\"data row14 col0\" >1.000000</td>\n                        <td id=\"T_e3b58_row14_col1\" class=\"data row14 col1\" >0.000000</td>\n                        <td id=\"T_e3b58_row14_col2\" class=\"data row14 col2\" >0.000000</td>\n                        <td id=\"T_e3b58_row14_col3\" class=\"data row14 col3\" >0</td>\n            </tr>\n            <tr>\n                        <th id=\"T_e3b58_level0_row15\" class=\"row_heading level0 row15\" >Doc15</th>\n                        <td id=\"T_e3b58_row15_col0\" class=\"data row15 col0\" >0.990000</td>\n                        <td id=\"T_e3b58_row15_col1\" class=\"data row15 col1\" >0.000000</td>\n                        <td id=\"T_e3b58_row15_col2\" class=\"data row15 col2\" >0.000000</td>\n                        <td id=\"T_e3b58_row15_col3\" class=\"data row15 col3\" >0</td>\n            </tr>\n            <tr>\n                        <th id=\"T_e3b58_level0_row16\" class=\"row_heading level0 row16\" >Doc16</th>\n                        <td id=\"T_e3b58_row16_col0\" class=\"data row16 col0\" >1.000000</td>\n                        <td id=\"T_e3b58_row16_col1\" class=\"data row16 col1\" >0.000000</td>\n                        <td id=\"T_e3b58_row16_col2\" class=\"data row16 col2\" >0.000000</td>\n                        <td id=\"T_e3b58_row16_col3\" class=\"data row16 col3\" >0</td>\n            </tr>\n            <tr>\n                        <th id=\"T_e3b58_level0_row17\" class=\"row_heading level0 row17\" >Doc17</th>\n                        <td id=\"T_e3b58_row17_col0\" class=\"data row17 col0\" >0.990000</td>\n                        <td id=\"T_e3b58_row17_col1\" class=\"data row17 col1\" >0.000000</td>\n                        <td id=\"T_e3b58_row17_col2\" class=\"data row17 col2\" >0.000000</td>\n                        <td id=\"T_e3b58_row17_col3\" class=\"data row17 col3\" >0</td>\n            </tr>\n            <tr>\n                        <th id=\"T_e3b58_level0_row18\" class=\"row_heading level0 row18\" >Doc18</th>\n                        <td id=\"T_e3b58_row18_col0\" class=\"data row18 col0\" >0.990000</td>\n                        <td id=\"T_e3b58_row18_col1\" class=\"data row18 col1\" >0.000000</td>\n                        <td id=\"T_e3b58_row18_col2\" class=\"data row18 col2\" >0.000000</td>\n                        <td id=\"T_e3b58_row18_col3\" class=\"data row18 col3\" >0</td>\n            </tr>\n            <tr>\n                        <th id=\"T_e3b58_level0_row19\" class=\"row_heading level0 row19\" >Doc19</th>\n                        <td id=\"T_e3b58_row19_col0\" class=\"data row19 col0\" >0.990000</td>\n                        <td id=\"T_e3b58_row19_col1\" class=\"data row19 col1\" >0.000000</td>\n                        <td id=\"T_e3b58_row19_col2\" class=\"data row19 col2\" >0.000000</td>\n                        <td id=\"T_e3b58_row19_col3\" class=\"data row19 col3\" >0</td>\n            </tr>\n            <tr>\n                        <th id=\"T_e3b58_level0_row20\" class=\"row_heading level0 row20\" >Doc20</th>\n                        <td id=\"T_e3b58_row20_col0\" class=\"data row20 col0\" >0.990000</td>\n                        <td id=\"T_e3b58_row20_col1\" class=\"data row20 col1\" >0.000000</td>\n                        <td id=\"T_e3b58_row20_col2\" class=\"data row20 col2\" >0.000000</td>\n                        <td id=\"T_e3b58_row20_col3\" class=\"data row20 col3\" >0</td>\n            </tr>\n            <tr>\n                        <th id=\"T_e3b58_level0_row21\" class=\"row_heading level0 row21\" >Doc21</th>\n                        <td id=\"T_e3b58_row21_col0\" class=\"data row21 col0\" >0.990000</td>\n                        <td id=\"T_e3b58_row21_col1\" class=\"data row21 col1\" >0.000000</td>\n                        <td id=\"T_e3b58_row21_col2\" class=\"data row21 col2\" >0.000000</td>\n                        <td id=\"T_e3b58_row21_col3\" class=\"data row21 col3\" >0</td>\n            </tr>\n            <tr>\n                        <th id=\"T_e3b58_level0_row22\" class=\"row_heading level0 row22\" >Doc22</th>\n                        <td id=\"T_e3b58_row22_col0\" class=\"data row22 col0\" >0.990000</td>\n                        <td id=\"T_e3b58_row22_col1\" class=\"data row22 col1\" >0.000000</td>\n                        <td id=\"T_e3b58_row22_col2\" class=\"data row22 col2\" >0.000000</td>\n                        <td id=\"T_e3b58_row22_col3\" class=\"data row22 col3\" >0</td>\n            </tr>\n            <tr>\n                        <th id=\"T_e3b58_level0_row23\" class=\"row_heading level0 row23\" >Doc23</th>\n                        <td id=\"T_e3b58_row23_col0\" class=\"data row23 col0\" >0.990000</td>\n                        <td id=\"T_e3b58_row23_col1\" class=\"data row23 col1\" >0.000000</td>\n                        <td id=\"T_e3b58_row23_col2\" class=\"data row23 col2\" >0.000000</td>\n                        <td id=\"T_e3b58_row23_col3\" class=\"data row23 col3\" >0</td>\n            </tr>\n            <tr>\n                        <th id=\"T_e3b58_level0_row24\" class=\"row_heading level0 row24\" >Doc24</th>\n                        <td id=\"T_e3b58_row24_col0\" class=\"data row24 col0\" >0.990000</td>\n                        <td id=\"T_e3b58_row24_col1\" class=\"data row24 col1\" >0.000000</td>\n                        <td id=\"T_e3b58_row24_col2\" class=\"data row24 col2\" >0.000000</td>\n                        <td id=\"T_e3b58_row24_col3\" class=\"data row24 col3\" >0</td>\n            </tr>\n            <tr>\n                        <th id=\"T_e3b58_level0_row25\" class=\"row_heading level0 row25\" >Doc25</th>\n                        <td id=\"T_e3b58_row25_col0\" class=\"data row25 col0\" >0.990000</td>\n                        <td id=\"T_e3b58_row25_col1\" class=\"data row25 col1\" >0.000000</td>\n                        <td id=\"T_e3b58_row25_col2\" class=\"data row25 col2\" >0.000000</td>\n                        <td id=\"T_e3b58_row25_col3\" class=\"data row25 col3\" >0</td>\n            </tr>\n            <tr>\n                        <th id=\"T_e3b58_level0_row26\" class=\"row_heading level0 row26\" >Doc26</th>\n                        <td id=\"T_e3b58_row26_col0\" class=\"data row26 col0\" >0.990000</td>\n                        <td id=\"T_e3b58_row26_col1\" class=\"data row26 col1\" >0.000000</td>\n                        <td id=\"T_e3b58_row26_col2\" class=\"data row26 col2\" >0.000000</td>\n                        <td id=\"T_e3b58_row26_col3\" class=\"data row26 col3\" >0</td>\n            </tr>\n            <tr>\n                        <th id=\"T_e3b58_level0_row27\" class=\"row_heading level0 row27\" >Doc27</th>\n                        <td id=\"T_e3b58_row27_col0\" class=\"data row27 col0\" >0.990000</td>\n                        <td id=\"T_e3b58_row27_col1\" class=\"data row27 col1\" >0.000000</td>\n                        <td id=\"T_e3b58_row27_col2\" class=\"data row27 col2\" >0.000000</td>\n                        <td id=\"T_e3b58_row27_col3\" class=\"data row27 col3\" >0</td>\n            </tr>\n            <tr>\n                        <th id=\"T_e3b58_level0_row28\" class=\"row_heading level0 row28\" >Doc28</th>\n                        <td id=\"T_e3b58_row28_col0\" class=\"data row28 col0\" >0.990000</td>\n                        <td id=\"T_e3b58_row28_col1\" class=\"data row28 col1\" >0.000000</td>\n                        <td id=\"T_e3b58_row28_col2\" class=\"data row28 col2\" >0.000000</td>\n                        <td id=\"T_e3b58_row28_col3\" class=\"data row28 col3\" >0</td>\n            </tr>\n            <tr>\n                        <th id=\"T_e3b58_level0_row29\" class=\"row_heading level0 row29\" >Doc29</th>\n                        <td id=\"T_e3b58_row29_col0\" class=\"data row29 col0\" >0.990000</td>\n                        <td id=\"T_e3b58_row29_col1\" class=\"data row29 col1\" >0.000000</td>\n                        <td id=\"T_e3b58_row29_col2\" class=\"data row29 col2\" >0.000000</td>\n                        <td id=\"T_e3b58_row29_col3\" class=\"data row29 col3\" >0</td>\n            </tr>\n            <tr>\n                        <th id=\"T_e3b58_level0_row30\" class=\"row_heading level0 row30\" >Doc30</th>\n                        <td id=\"T_e3b58_row30_col0\" class=\"data row30 col0\" >0.990000</td>\n                        <td id=\"T_e3b58_row30_col1\" class=\"data row30 col1\" >0.000000</td>\n                        <td id=\"T_e3b58_row30_col2\" class=\"data row30 col2\" >0.000000</td>\n                        <td id=\"T_e3b58_row30_col3\" class=\"data row30 col3\" >0</td>\n            </tr>\n            <tr>\n                        <th id=\"T_e3b58_level0_row31\" class=\"row_heading level0 row31\" >Doc31</th>\n                        <td id=\"T_e3b58_row31_col0\" class=\"data row31 col0\" >0.990000</td>\n                        <td id=\"T_e3b58_row31_col1\" class=\"data row31 col1\" >0.000000</td>\n                        <td id=\"T_e3b58_row31_col2\" class=\"data row31 col2\" >0.000000</td>\n                        <td id=\"T_e3b58_row31_col3\" class=\"data row31 col3\" >0</td>\n            </tr>\n            <tr>\n                        <th id=\"T_e3b58_level0_row32\" class=\"row_heading level0 row32\" >Doc32</th>\n                        <td id=\"T_e3b58_row32_col0\" class=\"data row32 col0\" >0.990000</td>\n                        <td id=\"T_e3b58_row32_col1\" class=\"data row32 col1\" >0.000000</td>\n                        <td id=\"T_e3b58_row32_col2\" class=\"data row32 col2\" >0.000000</td>\n                        <td id=\"T_e3b58_row32_col3\" class=\"data row32 col3\" >0</td>\n            </tr>\n            <tr>\n                        <th id=\"T_e3b58_level0_row33\" class=\"row_heading level0 row33\" >Doc33</th>\n                        <td id=\"T_e3b58_row33_col0\" class=\"data row33 col0\" >0.990000</td>\n                        <td id=\"T_e3b58_row33_col1\" class=\"data row33 col1\" >0.000000</td>\n                        <td id=\"T_e3b58_row33_col2\" class=\"data row33 col2\" >0.000000</td>\n                        <td id=\"T_e3b58_row33_col3\" class=\"data row33 col3\" >0</td>\n            </tr>\n            <tr>\n                        <th id=\"T_e3b58_level0_row34\" class=\"row_heading level0 row34\" >Doc34</th>\n                        <td id=\"T_e3b58_row34_col0\" class=\"data row34 col0\" >0.990000</td>\n                        <td id=\"T_e3b58_row34_col1\" class=\"data row34 col1\" >0.000000</td>\n                        <td id=\"T_e3b58_row34_col2\" class=\"data row34 col2\" >0.000000</td>\n                        <td id=\"T_e3b58_row34_col3\" class=\"data row34 col3\" >0</td>\n            </tr>\n            <tr>\n                        <th id=\"T_e3b58_level0_row35\" class=\"row_heading level0 row35\" >Doc35</th>\n                        <td id=\"T_e3b58_row35_col0\" class=\"data row35 col0\" >0.990000</td>\n                        <td id=\"T_e3b58_row35_col1\" class=\"data row35 col1\" >0.000000</td>\n                        <td id=\"T_e3b58_row35_col2\" class=\"data row35 col2\" >0.000000</td>\n                        <td id=\"T_e3b58_row35_col3\" class=\"data row35 col3\" >0</td>\n            </tr>\n            <tr>\n                        <th id=\"T_e3b58_level0_row36\" class=\"row_heading level0 row36\" >Doc36</th>\n                        <td id=\"T_e3b58_row36_col0\" class=\"data row36 col0\" >0.990000</td>\n                        <td id=\"T_e3b58_row36_col1\" class=\"data row36 col1\" >0.000000</td>\n                        <td id=\"T_e3b58_row36_col2\" class=\"data row36 col2\" >0.000000</td>\n                        <td id=\"T_e3b58_row36_col3\" class=\"data row36 col3\" >0</td>\n            </tr>\n            <tr>\n                        <th id=\"T_e3b58_level0_row37\" class=\"row_heading level0 row37\" >Doc37</th>\n                        <td id=\"T_e3b58_row37_col0\" class=\"data row37 col0\" >0.990000</td>\n                        <td id=\"T_e3b58_row37_col1\" class=\"data row37 col1\" >0.010000</td>\n                        <td id=\"T_e3b58_row37_col2\" class=\"data row37 col2\" >0.010000</td>\n                        <td id=\"T_e3b58_row37_col3\" class=\"data row37 col3\" >0</td>\n            </tr>\n            <tr>\n                        <th id=\"T_e3b58_level0_row38\" class=\"row_heading level0 row38\" >Doc38</th>\n                        <td id=\"T_e3b58_row38_col0\" class=\"data row38 col0\" >0.990000</td>\n                        <td id=\"T_e3b58_row38_col1\" class=\"data row38 col1\" >0.000000</td>\n                        <td id=\"T_e3b58_row38_col2\" class=\"data row38 col2\" >0.000000</td>\n                        <td id=\"T_e3b58_row38_col3\" class=\"data row38 col3\" >0</td>\n            </tr>\n            <tr>\n                        <th id=\"T_e3b58_level0_row39\" class=\"row_heading level0 row39\" >Doc39</th>\n                        <td id=\"T_e3b58_row39_col0\" class=\"data row39 col0\" >0.990000</td>\n                        <td id=\"T_e3b58_row39_col1\" class=\"data row39 col1\" >0.000000</td>\n                        <td id=\"T_e3b58_row39_col2\" class=\"data row39 col2\" >0.000000</td>\n                        <td id=\"T_e3b58_row39_col3\" class=\"data row39 col3\" >0</td>\n            </tr>\n            <tr>\n                        <th id=\"T_e3b58_level0_row40\" class=\"row_heading level0 row40\" >Doc40</th>\n                        <td id=\"T_e3b58_row40_col0\" class=\"data row40 col0\" >0.990000</td>\n                        <td id=\"T_e3b58_row40_col1\" class=\"data row40 col1\" >0.000000</td>\n                        <td id=\"T_e3b58_row40_col2\" class=\"data row40 col2\" >0.000000</td>\n                        <td id=\"T_e3b58_row40_col3\" class=\"data row40 col3\" >0</td>\n            </tr>\n            <tr>\n                        <th id=\"T_e3b58_level0_row41\" class=\"row_heading level0 row41\" >Doc41</th>\n                        <td id=\"T_e3b58_row41_col0\" class=\"data row41 col0\" >0.990000</td>\n                        <td id=\"T_e3b58_row41_col1\" class=\"data row41 col1\" >0.000000</td>\n                        <td id=\"T_e3b58_row41_col2\" class=\"data row41 col2\" >0.000000</td>\n                        <td id=\"T_e3b58_row41_col3\" class=\"data row41 col3\" >0</td>\n            </tr>\n            <tr>\n                        <th id=\"T_e3b58_level0_row42\" class=\"row_heading level0 row42\" >Doc42</th>\n                        <td id=\"T_e3b58_row42_col0\" class=\"data row42 col0\" >0.990000</td>\n                        <td id=\"T_e3b58_row42_col1\" class=\"data row42 col1\" >0.000000</td>\n                        <td id=\"T_e3b58_row42_col2\" class=\"data row42 col2\" >0.000000</td>\n                        <td id=\"T_e3b58_row42_col3\" class=\"data row42 col3\" >0</td>\n            </tr>\n            <tr>\n                        <th id=\"T_e3b58_level0_row43\" class=\"row_heading level0 row43\" >Doc43</th>\n                        <td id=\"T_e3b58_row43_col0\" class=\"data row43 col0\" >0.990000</td>\n                        <td id=\"T_e3b58_row43_col1\" class=\"data row43 col1\" >0.000000</td>\n                        <td id=\"T_e3b58_row43_col2\" class=\"data row43 col2\" >0.000000</td>\n                        <td id=\"T_e3b58_row43_col3\" class=\"data row43 col3\" >0</td>\n            </tr>\n            <tr>\n                        <th id=\"T_e3b58_level0_row44\" class=\"row_heading level0 row44\" >Doc44</th>\n                        <td id=\"T_e3b58_row44_col0\" class=\"data row44 col0\" >0.990000</td>\n                        <td id=\"T_e3b58_row44_col1\" class=\"data row44 col1\" >0.000000</td>\n                        <td id=\"T_e3b58_row44_col2\" class=\"data row44 col2\" >0.000000</td>\n                        <td id=\"T_e3b58_row44_col3\" class=\"data row44 col3\" >0</td>\n            </tr>\n            <tr>\n                        <th id=\"T_e3b58_level0_row45\" class=\"row_heading level0 row45\" >Doc45</th>\n                        <td id=\"T_e3b58_row45_col0\" class=\"data row45 col0\" >0.990000</td>\n                        <td id=\"T_e3b58_row45_col1\" class=\"data row45 col1\" >0.000000</td>\n                        <td id=\"T_e3b58_row45_col2\" class=\"data row45 col2\" >0.000000</td>\n                        <td id=\"T_e3b58_row45_col3\" class=\"data row45 col3\" >0</td>\n            </tr>\n            <tr>\n                        <th id=\"T_e3b58_level0_row46\" class=\"row_heading level0 row46\" >Doc46</th>\n                        <td id=\"T_e3b58_row46_col0\" class=\"data row46 col0\" >0.990000</td>\n                        <td id=\"T_e3b58_row46_col1\" class=\"data row46 col1\" >0.000000</td>\n                        <td id=\"T_e3b58_row46_col2\" class=\"data row46 col2\" >0.000000</td>\n                        <td id=\"T_e3b58_row46_col3\" class=\"data row46 col3\" >0</td>\n            </tr>\n            <tr>\n                        <th id=\"T_e3b58_level0_row47\" class=\"row_heading level0 row47\" >Doc47</th>\n                        <td id=\"T_e3b58_row47_col0\" class=\"data row47 col0\" >0.990000</td>\n                        <td id=\"T_e3b58_row47_col1\" class=\"data row47 col1\" >0.000000</td>\n                        <td id=\"T_e3b58_row47_col2\" class=\"data row47 col2\" >0.000000</td>\n                        <td id=\"T_e3b58_row47_col3\" class=\"data row47 col3\" >0</td>\n            </tr>\n            <tr>\n                        <th id=\"T_e3b58_level0_row48\" class=\"row_heading level0 row48\" >Doc48</th>\n                        <td id=\"T_e3b58_row48_col0\" class=\"data row48 col0\" >0.990000</td>\n                        <td id=\"T_e3b58_row48_col1\" class=\"data row48 col1\" >0.000000</td>\n                        <td id=\"T_e3b58_row48_col2\" class=\"data row48 col2\" >0.000000</td>\n                        <td id=\"T_e3b58_row48_col3\" class=\"data row48 col3\" >0</td>\n            </tr>\n            <tr>\n                        <th id=\"T_e3b58_level0_row49\" class=\"row_heading level0 row49\" >Doc49</th>\n                        <td id=\"T_e3b58_row49_col0\" class=\"data row49 col0\" >0.990000</td>\n                        <td id=\"T_e3b58_row49_col1\" class=\"data row49 col1\" >0.000000</td>\n                        <td id=\"T_e3b58_row49_col2\" class=\"data row49 col2\" >0.000000</td>\n                        <td id=\"T_e3b58_row49_col3\" class=\"data row49 col3\" >0</td>\n            </tr>\n            <tr>\n                        <th id=\"T_e3b58_level0_row50\" class=\"row_heading level0 row50\" >Doc50</th>\n                        <td id=\"T_e3b58_row50_col0\" class=\"data row50 col0\" >0.990000</td>\n                        <td id=\"T_e3b58_row50_col1\" class=\"data row50 col1\" >0.000000</td>\n                        <td id=\"T_e3b58_row50_col2\" class=\"data row50 col2\" >0.000000</td>\n                        <td id=\"T_e3b58_row50_col3\" class=\"data row50 col3\" >0</td>\n            </tr>\n            <tr>\n                        <th id=\"T_e3b58_level0_row51\" class=\"row_heading level0 row51\" >Doc51</th>\n                        <td id=\"T_e3b58_row51_col0\" class=\"data row51 col0\" >0.990000</td>\n                        <td id=\"T_e3b58_row51_col1\" class=\"data row51 col1\" >0.010000</td>\n                        <td id=\"T_e3b58_row51_col2\" class=\"data row51 col2\" >0.010000</td>\n                        <td id=\"T_e3b58_row51_col3\" class=\"data row51 col3\" >0</td>\n            </tr>\n            <tr>\n                        <th id=\"T_e3b58_level0_row52\" class=\"row_heading level0 row52\" >Doc52</th>\n                        <td id=\"T_e3b58_row52_col0\" class=\"data row52 col0\" >0.990000</td>\n                        <td id=\"T_e3b58_row52_col1\" class=\"data row52 col1\" >0.000000</td>\n                        <td id=\"T_e3b58_row52_col2\" class=\"data row52 col2\" >0.000000</td>\n                        <td id=\"T_e3b58_row52_col3\" class=\"data row52 col3\" >0</td>\n            </tr>\n            <tr>\n                        <th id=\"T_e3b58_level0_row53\" class=\"row_heading level0 row53\" >Doc53</th>\n                        <td id=\"T_e3b58_row53_col0\" class=\"data row53 col0\" >0.990000</td>\n                        <td id=\"T_e3b58_row53_col1\" class=\"data row53 col1\" >0.010000</td>\n                        <td id=\"T_e3b58_row53_col2\" class=\"data row53 col2\" >0.010000</td>\n                        <td id=\"T_e3b58_row53_col3\" class=\"data row53 col3\" >0</td>\n            </tr>\n            <tr>\n                        <th id=\"T_e3b58_level0_row54\" class=\"row_heading level0 row54\" >Doc54</th>\n                        <td id=\"T_e3b58_row54_col0\" class=\"data row54 col0\" >0.990000</td>\n                        <td id=\"T_e3b58_row54_col1\" class=\"data row54 col1\" >0.000000</td>\n                        <td id=\"T_e3b58_row54_col2\" class=\"data row54 col2\" >0.000000</td>\n                        <td id=\"T_e3b58_row54_col3\" class=\"data row54 col3\" >0</td>\n            </tr>\n            <tr>\n                        <th id=\"T_e3b58_level0_row55\" class=\"row_heading level0 row55\" >Doc55</th>\n                        <td id=\"T_e3b58_row55_col0\" class=\"data row55 col0\" >0.990000</td>\n                        <td id=\"T_e3b58_row55_col1\" class=\"data row55 col1\" >0.000000</td>\n                        <td id=\"T_e3b58_row55_col2\" class=\"data row55 col2\" >0.000000</td>\n                        <td id=\"T_e3b58_row55_col3\" class=\"data row55 col3\" >0</td>\n            </tr>\n            <tr>\n                        <th id=\"T_e3b58_level0_row56\" class=\"row_heading level0 row56\" >Doc56</th>\n                        <td id=\"T_e3b58_row56_col0\" class=\"data row56 col0\" >0.990000</td>\n                        <td id=\"T_e3b58_row56_col1\" class=\"data row56 col1\" >0.000000</td>\n                        <td id=\"T_e3b58_row56_col2\" class=\"data row56 col2\" >0.000000</td>\n                        <td id=\"T_e3b58_row56_col3\" class=\"data row56 col3\" >0</td>\n            </tr>\n            <tr>\n                        <th id=\"T_e3b58_level0_row57\" class=\"row_heading level0 row57\" >Doc57</th>\n                        <td id=\"T_e3b58_row57_col0\" class=\"data row57 col0\" >0.990000</td>\n                        <td id=\"T_e3b58_row57_col1\" class=\"data row57 col1\" >0.000000</td>\n                        <td id=\"T_e3b58_row57_col2\" class=\"data row57 col2\" >0.000000</td>\n                        <td id=\"T_e3b58_row57_col3\" class=\"data row57 col3\" >0</td>\n            </tr>\n            <tr>\n                        <th id=\"T_e3b58_level0_row58\" class=\"row_heading level0 row58\" >Doc58</th>\n                        <td id=\"T_e3b58_row58_col0\" class=\"data row58 col0\" >0.990000</td>\n                        <td id=\"T_e3b58_row58_col1\" class=\"data row58 col1\" >0.000000</td>\n                        <td id=\"T_e3b58_row58_col2\" class=\"data row58 col2\" >0.000000</td>\n                        <td id=\"T_e3b58_row58_col3\" class=\"data row58 col3\" >0</td>\n            </tr>\n            <tr>\n                        <th id=\"T_e3b58_level0_row59\" class=\"row_heading level0 row59\" >Doc59</th>\n                        <td id=\"T_e3b58_row59_col0\" class=\"data row59 col0\" >0.990000</td>\n                        <td id=\"T_e3b58_row59_col1\" class=\"data row59 col1\" >0.000000</td>\n                        <td id=\"T_e3b58_row59_col2\" class=\"data row59 col2\" >0.000000</td>\n                        <td id=\"T_e3b58_row59_col3\" class=\"data row59 col3\" >0</td>\n            </tr>\n            <tr>\n                        <th id=\"T_e3b58_level0_row60\" class=\"row_heading level0 row60\" >Doc60</th>\n                        <td id=\"T_e3b58_row60_col0\" class=\"data row60 col0\" >0.990000</td>\n                        <td id=\"T_e3b58_row60_col1\" class=\"data row60 col1\" >0.000000</td>\n                        <td id=\"T_e3b58_row60_col2\" class=\"data row60 col2\" >0.000000</td>\n                        <td id=\"T_e3b58_row60_col3\" class=\"data row60 col3\" >0</td>\n            </tr>\n            <tr>\n                        <th id=\"T_e3b58_level0_row61\" class=\"row_heading level0 row61\" >Doc61</th>\n                        <td id=\"T_e3b58_row61_col0\" class=\"data row61 col0\" >0.990000</td>\n                        <td id=\"T_e3b58_row61_col1\" class=\"data row61 col1\" >0.010000</td>\n                        <td id=\"T_e3b58_row61_col2\" class=\"data row61 col2\" >0.000000</td>\n                        <td id=\"T_e3b58_row61_col3\" class=\"data row61 col3\" >0</td>\n            </tr>\n            <tr>\n                        <th id=\"T_e3b58_level0_row62\" class=\"row_heading level0 row62\" >Doc62</th>\n                        <td id=\"T_e3b58_row62_col0\" class=\"data row62 col0\" >0.990000</td>\n                        <td id=\"T_e3b58_row62_col1\" class=\"data row62 col1\" >0.000000</td>\n                        <td id=\"T_e3b58_row62_col2\" class=\"data row62 col2\" >0.000000</td>\n                        <td id=\"T_e3b58_row62_col3\" class=\"data row62 col3\" >0</td>\n            </tr>\n            <tr>\n                        <th id=\"T_e3b58_level0_row63\" class=\"row_heading level0 row63\" >Doc63</th>\n                        <td id=\"T_e3b58_row63_col0\" class=\"data row63 col0\" >0.990000</td>\n                        <td id=\"T_e3b58_row63_col1\" class=\"data row63 col1\" >0.000000</td>\n                        <td id=\"T_e3b58_row63_col2\" class=\"data row63 col2\" >0.000000</td>\n                        <td id=\"T_e3b58_row63_col3\" class=\"data row63 col3\" >0</td>\n            </tr>\n            <tr>\n                        <th id=\"T_e3b58_level0_row64\" class=\"row_heading level0 row64\" >Doc64</th>\n                        <td id=\"T_e3b58_row64_col0\" class=\"data row64 col0\" >0.990000</td>\n                        <td id=\"T_e3b58_row64_col1\" class=\"data row64 col1\" >0.000000</td>\n                        <td id=\"T_e3b58_row64_col2\" class=\"data row64 col2\" >0.000000</td>\n                        <td id=\"T_e3b58_row64_col3\" class=\"data row64 col3\" >0</td>\n            </tr>\n            <tr>\n                        <th id=\"T_e3b58_level0_row65\" class=\"row_heading level0 row65\" >Doc65</th>\n                        <td id=\"T_e3b58_row65_col0\" class=\"data row65 col0\" >0.990000</td>\n                        <td id=\"T_e3b58_row65_col1\" class=\"data row65 col1\" >0.000000</td>\n                        <td id=\"T_e3b58_row65_col2\" class=\"data row65 col2\" >0.000000</td>\n                        <td id=\"T_e3b58_row65_col3\" class=\"data row65 col3\" >0</td>\n            </tr>\n            <tr>\n                        <th id=\"T_e3b58_level0_row66\" class=\"row_heading level0 row66\" >Doc66</th>\n                        <td id=\"T_e3b58_row66_col0\" class=\"data row66 col0\" >0.990000</td>\n                        <td id=\"T_e3b58_row66_col1\" class=\"data row66 col1\" >0.000000</td>\n                        <td id=\"T_e3b58_row66_col2\" class=\"data row66 col2\" >0.000000</td>\n                        <td id=\"T_e3b58_row66_col3\" class=\"data row66 col3\" >0</td>\n            </tr>\n            <tr>\n                        <th id=\"T_e3b58_level0_row67\" class=\"row_heading level0 row67\" >Doc67</th>\n                        <td id=\"T_e3b58_row67_col0\" class=\"data row67 col0\" >0.990000</td>\n                        <td id=\"T_e3b58_row67_col1\" class=\"data row67 col1\" >0.000000</td>\n                        <td id=\"T_e3b58_row67_col2\" class=\"data row67 col2\" >0.000000</td>\n                        <td id=\"T_e3b58_row67_col3\" class=\"data row67 col3\" >0</td>\n            </tr>\n            <tr>\n                        <th id=\"T_e3b58_level0_row68\" class=\"row_heading level0 row68\" >Doc68</th>\n                        <td id=\"T_e3b58_row68_col0\" class=\"data row68 col0\" >0.990000</td>\n                        <td id=\"T_e3b58_row68_col1\" class=\"data row68 col1\" >0.000000</td>\n                        <td id=\"T_e3b58_row68_col2\" class=\"data row68 col2\" >0.000000</td>\n                        <td id=\"T_e3b58_row68_col3\" class=\"data row68 col3\" >0</td>\n            </tr>\n            <tr>\n                        <th id=\"T_e3b58_level0_row69\" class=\"row_heading level0 row69\" >Doc69</th>\n                        <td id=\"T_e3b58_row69_col0\" class=\"data row69 col0\" >0.990000</td>\n                        <td id=\"T_e3b58_row69_col1\" class=\"data row69 col1\" >0.000000</td>\n                        <td id=\"T_e3b58_row69_col2\" class=\"data row69 col2\" >0.000000</td>\n                        <td id=\"T_e3b58_row69_col3\" class=\"data row69 col3\" >0</td>\n            </tr>\n            <tr>\n                        <th id=\"T_e3b58_level0_row70\" class=\"row_heading level0 row70\" >Doc70</th>\n                        <td id=\"T_e3b58_row70_col0\" class=\"data row70 col0\" >0.940000</td>\n                        <td id=\"T_e3b58_row70_col1\" class=\"data row70 col1\" >0.060000</td>\n                        <td id=\"T_e3b58_row70_col2\" class=\"data row70 col2\" >0.000000</td>\n                        <td id=\"T_e3b58_row70_col3\" class=\"data row70 col3\" >0</td>\n            </tr>\n            <tr>\n                        <th id=\"T_e3b58_level0_row71\" class=\"row_heading level0 row71\" >Doc71</th>\n                        <td id=\"T_e3b58_row71_col0\" class=\"data row71 col0\" >0.990000</td>\n                        <td id=\"T_e3b58_row71_col1\" class=\"data row71 col1\" >0.000000</td>\n                        <td id=\"T_e3b58_row71_col2\" class=\"data row71 col2\" >0.000000</td>\n                        <td id=\"T_e3b58_row71_col3\" class=\"data row71 col3\" >0</td>\n            </tr>\n            <tr>\n                        <th id=\"T_e3b58_level0_row72\" class=\"row_heading level0 row72\" >Doc72</th>\n                        <td id=\"T_e3b58_row72_col0\" class=\"data row72 col0\" >0.990000</td>\n                        <td id=\"T_e3b58_row72_col1\" class=\"data row72 col1\" >0.000000</td>\n                        <td id=\"T_e3b58_row72_col2\" class=\"data row72 col2\" >0.000000</td>\n                        <td id=\"T_e3b58_row72_col3\" class=\"data row72 col3\" >0</td>\n            </tr>\n            <tr>\n                        <th id=\"T_e3b58_level0_row73\" class=\"row_heading level0 row73\" >Doc73</th>\n                        <td id=\"T_e3b58_row73_col0\" class=\"data row73 col0\" >0.990000</td>\n                        <td id=\"T_e3b58_row73_col1\" class=\"data row73 col1\" >0.000000</td>\n                        <td id=\"T_e3b58_row73_col2\" class=\"data row73 col2\" >0.000000</td>\n                        <td id=\"T_e3b58_row73_col3\" class=\"data row73 col3\" >0</td>\n            </tr>\n            <tr>\n                        <th id=\"T_e3b58_level0_row74\" class=\"row_heading level0 row74\" >Doc74</th>\n                        <td id=\"T_e3b58_row74_col0\" class=\"data row74 col0\" >0.990000</td>\n                        <td id=\"T_e3b58_row74_col1\" class=\"data row74 col1\" >0.000000</td>\n                        <td id=\"T_e3b58_row74_col2\" class=\"data row74 col2\" >0.000000</td>\n                        <td id=\"T_e3b58_row74_col3\" class=\"data row74 col3\" >0</td>\n            </tr>\n            <tr>\n                        <th id=\"T_e3b58_level0_row75\" class=\"row_heading level0 row75\" >Doc75</th>\n                        <td id=\"T_e3b58_row75_col0\" class=\"data row75 col0\" >0.990000</td>\n                        <td id=\"T_e3b58_row75_col1\" class=\"data row75 col1\" >0.010000</td>\n                        <td id=\"T_e3b58_row75_col2\" class=\"data row75 col2\" >0.000000</td>\n                        <td id=\"T_e3b58_row75_col3\" class=\"data row75 col3\" >0</td>\n            </tr>\n            <tr>\n                        <th id=\"T_e3b58_level0_row76\" class=\"row_heading level0 row76\" >Doc76</th>\n                        <td id=\"T_e3b58_row76_col0\" class=\"data row76 col0\" >0.990000</td>\n                        <td id=\"T_e3b58_row76_col1\" class=\"data row76 col1\" >0.000000</td>\n                        <td id=\"T_e3b58_row76_col2\" class=\"data row76 col2\" >0.000000</td>\n                        <td id=\"T_e3b58_row76_col3\" class=\"data row76 col3\" >0</td>\n            </tr>\n            <tr>\n                        <th id=\"T_e3b58_level0_row77\" class=\"row_heading level0 row77\" >Doc77</th>\n                        <td id=\"T_e3b58_row77_col0\" class=\"data row77 col0\" >0.990000</td>\n                        <td id=\"T_e3b58_row77_col1\" class=\"data row77 col1\" >0.000000</td>\n                        <td id=\"T_e3b58_row77_col2\" class=\"data row77 col2\" >0.000000</td>\n                        <td id=\"T_e3b58_row77_col3\" class=\"data row77 col3\" >0</td>\n            </tr>\n            <tr>\n                        <th id=\"T_e3b58_level0_row78\" class=\"row_heading level0 row78\" >Doc78</th>\n                        <td id=\"T_e3b58_row78_col0\" class=\"data row78 col0\" >0.990000</td>\n                        <td id=\"T_e3b58_row78_col1\" class=\"data row78 col1\" >0.000000</td>\n                        <td id=\"T_e3b58_row78_col2\" class=\"data row78 col2\" >0.000000</td>\n                        <td id=\"T_e3b58_row78_col3\" class=\"data row78 col3\" >0</td>\n            </tr>\n            <tr>\n                        <th id=\"T_e3b58_level0_row79\" class=\"row_heading level0 row79\" >Doc79</th>\n                        <td id=\"T_e3b58_row79_col0\" class=\"data row79 col0\" >0.990000</td>\n                        <td id=\"T_e3b58_row79_col1\" class=\"data row79 col1\" >0.000000</td>\n                        <td id=\"T_e3b58_row79_col2\" class=\"data row79 col2\" >0.000000</td>\n                        <td id=\"T_e3b58_row79_col3\" class=\"data row79 col3\" >0</td>\n            </tr>\n            <tr>\n                        <th id=\"T_e3b58_level0_row80\" class=\"row_heading level0 row80\" >Doc80</th>\n                        <td id=\"T_e3b58_row80_col0\" class=\"data row80 col0\" >0.990000</td>\n                        <td id=\"T_e3b58_row80_col1\" class=\"data row80 col1\" >0.000000</td>\n                        <td id=\"T_e3b58_row80_col2\" class=\"data row80 col2\" >0.000000</td>\n                        <td id=\"T_e3b58_row80_col3\" class=\"data row80 col3\" >0</td>\n            </tr>\n            <tr>\n                        <th id=\"T_e3b58_level0_row81\" class=\"row_heading level0 row81\" >Doc81</th>\n                        <td id=\"T_e3b58_row81_col0\" class=\"data row81 col0\" >0.990000</td>\n                        <td id=\"T_e3b58_row81_col1\" class=\"data row81 col1\" >0.000000</td>\n                        <td id=\"T_e3b58_row81_col2\" class=\"data row81 col2\" >0.000000</td>\n                        <td id=\"T_e3b58_row81_col3\" class=\"data row81 col3\" >0</td>\n            </tr>\n            <tr>\n                        <th id=\"T_e3b58_level0_row82\" class=\"row_heading level0 row82\" >Doc82</th>\n                        <td id=\"T_e3b58_row82_col0\" class=\"data row82 col0\" >0.990000</td>\n                        <td id=\"T_e3b58_row82_col1\" class=\"data row82 col1\" >0.000000</td>\n                        <td id=\"T_e3b58_row82_col2\" class=\"data row82 col2\" >0.000000</td>\n                        <td id=\"T_e3b58_row82_col3\" class=\"data row82 col3\" >0</td>\n            </tr>\n            <tr>\n                        <th id=\"T_e3b58_level0_row83\" class=\"row_heading level0 row83\" >Doc83</th>\n                        <td id=\"T_e3b58_row83_col0\" class=\"data row83 col0\" >0.990000</td>\n                        <td id=\"T_e3b58_row83_col1\" class=\"data row83 col1\" >0.000000</td>\n                        <td id=\"T_e3b58_row83_col2\" class=\"data row83 col2\" >0.000000</td>\n                        <td id=\"T_e3b58_row83_col3\" class=\"data row83 col3\" >0</td>\n            </tr>\n            <tr>\n                        <th id=\"T_e3b58_level0_row84\" class=\"row_heading level0 row84\" >Doc84</th>\n                        <td id=\"T_e3b58_row84_col0\" class=\"data row84 col0\" >0.990000</td>\n                        <td id=\"T_e3b58_row84_col1\" class=\"data row84 col1\" >0.010000</td>\n                        <td id=\"T_e3b58_row84_col2\" class=\"data row84 col2\" >0.010000</td>\n                        <td id=\"T_e3b58_row84_col3\" class=\"data row84 col3\" >0</td>\n            </tr>\n            <tr>\n                        <th id=\"T_e3b58_level0_row85\" class=\"row_heading level0 row85\" >Doc85</th>\n                        <td id=\"T_e3b58_row85_col0\" class=\"data row85 col0\" >0.990000</td>\n                        <td id=\"T_e3b58_row85_col1\" class=\"data row85 col1\" >0.000000</td>\n                        <td id=\"T_e3b58_row85_col2\" class=\"data row85 col2\" >0.000000</td>\n                        <td id=\"T_e3b58_row85_col3\" class=\"data row85 col3\" >0</td>\n            </tr>\n            <tr>\n                        <th id=\"T_e3b58_level0_row86\" class=\"row_heading level0 row86\" >Doc86</th>\n                        <td id=\"T_e3b58_row86_col0\" class=\"data row86 col0\" >0.990000</td>\n                        <td id=\"T_e3b58_row86_col1\" class=\"data row86 col1\" >0.000000</td>\n                        <td id=\"T_e3b58_row86_col2\" class=\"data row86 col2\" >0.000000</td>\n                        <td id=\"T_e3b58_row86_col3\" class=\"data row86 col3\" >0</td>\n            </tr>\n            <tr>\n                        <th id=\"T_e3b58_level0_row87\" class=\"row_heading level0 row87\" >Doc87</th>\n                        <td id=\"T_e3b58_row87_col0\" class=\"data row87 col0\" >0.990000</td>\n                        <td id=\"T_e3b58_row87_col1\" class=\"data row87 col1\" >0.000000</td>\n                        <td id=\"T_e3b58_row87_col2\" class=\"data row87 col2\" >0.000000</td>\n                        <td id=\"T_e3b58_row87_col3\" class=\"data row87 col3\" >0</td>\n            </tr>\n            <tr>\n                        <th id=\"T_e3b58_level0_row88\" class=\"row_heading level0 row88\" >Doc88</th>\n                        <td id=\"T_e3b58_row88_col0\" class=\"data row88 col0\" >0.990000</td>\n                        <td id=\"T_e3b58_row88_col1\" class=\"data row88 col1\" >0.000000</td>\n                        <td id=\"T_e3b58_row88_col2\" class=\"data row88 col2\" >0.000000</td>\n                        <td id=\"T_e3b58_row88_col3\" class=\"data row88 col3\" >0</td>\n            </tr>\n            <tr>\n                        <th id=\"T_e3b58_level0_row89\" class=\"row_heading level0 row89\" >Doc89</th>\n                        <td id=\"T_e3b58_row89_col0\" class=\"data row89 col0\" >0.990000</td>\n                        <td id=\"T_e3b58_row89_col1\" class=\"data row89 col1\" >0.000000</td>\n                        <td id=\"T_e3b58_row89_col2\" class=\"data row89 col2\" >0.000000</td>\n                        <td id=\"T_e3b58_row89_col3\" class=\"data row89 col3\" >0</td>\n            </tr>\n            <tr>\n                        <th id=\"T_e3b58_level0_row90\" class=\"row_heading level0 row90\" >Doc90</th>\n                        <td id=\"T_e3b58_row90_col0\" class=\"data row90 col0\" >0.990000</td>\n                        <td id=\"T_e3b58_row90_col1\" class=\"data row90 col1\" >0.000000</td>\n                        <td id=\"T_e3b58_row90_col2\" class=\"data row90 col2\" >0.000000</td>\n                        <td id=\"T_e3b58_row90_col3\" class=\"data row90 col3\" >0</td>\n            </tr>\n            <tr>\n                        <th id=\"T_e3b58_level0_row91\" class=\"row_heading level0 row91\" >Doc91</th>\n                        <td id=\"T_e3b58_row91_col0\" class=\"data row91 col0\" >0.990000</td>\n                        <td id=\"T_e3b58_row91_col1\" class=\"data row91 col1\" >0.000000</td>\n                        <td id=\"T_e3b58_row91_col2\" class=\"data row91 col2\" >0.000000</td>\n                        <td id=\"T_e3b58_row91_col3\" class=\"data row91 col3\" >0</td>\n            </tr>\n            <tr>\n                        <th id=\"T_e3b58_level0_row92\" class=\"row_heading level0 row92\" >Doc92</th>\n                        <td id=\"T_e3b58_row92_col0\" class=\"data row92 col0\" >0.990000</td>\n                        <td id=\"T_e3b58_row92_col1\" class=\"data row92 col1\" >0.000000</td>\n                        <td id=\"T_e3b58_row92_col2\" class=\"data row92 col2\" >0.000000</td>\n                        <td id=\"T_e3b58_row92_col3\" class=\"data row92 col3\" >0</td>\n            </tr>\n            <tr>\n                        <th id=\"T_e3b58_level0_row93\" class=\"row_heading level0 row93\" >Doc93</th>\n                        <td id=\"T_e3b58_row93_col0\" class=\"data row93 col0\" >0.990000</td>\n                        <td id=\"T_e3b58_row93_col1\" class=\"data row93 col1\" >0.000000</td>\n                        <td id=\"T_e3b58_row93_col2\" class=\"data row93 col2\" >0.000000</td>\n                        <td id=\"T_e3b58_row93_col3\" class=\"data row93 col3\" >0</td>\n            </tr>\n            <tr>\n                        <th id=\"T_e3b58_level0_row94\" class=\"row_heading level0 row94\" >Doc94</th>\n                        <td id=\"T_e3b58_row94_col0\" class=\"data row94 col0\" >0.990000</td>\n                        <td id=\"T_e3b58_row94_col1\" class=\"data row94 col1\" >0.000000</td>\n                        <td id=\"T_e3b58_row94_col2\" class=\"data row94 col2\" >0.000000</td>\n                        <td id=\"T_e3b58_row94_col3\" class=\"data row94 col3\" >0</td>\n            </tr>\n            <tr>\n                        <th id=\"T_e3b58_level0_row95\" class=\"row_heading level0 row95\" >Doc95</th>\n                        <td id=\"T_e3b58_row95_col0\" class=\"data row95 col0\" >0.990000</td>\n                        <td id=\"T_e3b58_row95_col1\" class=\"data row95 col1\" >0.000000</td>\n                        <td id=\"T_e3b58_row95_col2\" class=\"data row95 col2\" >0.000000</td>\n                        <td id=\"T_e3b58_row95_col3\" class=\"data row95 col3\" >0</td>\n            </tr>\n            <tr>\n                        <th id=\"T_e3b58_level0_row96\" class=\"row_heading level0 row96\" >Doc96</th>\n                        <td id=\"T_e3b58_row96_col0\" class=\"data row96 col0\" >0.990000</td>\n                        <td id=\"T_e3b58_row96_col1\" class=\"data row96 col1\" >0.000000</td>\n                        <td id=\"T_e3b58_row96_col2\" class=\"data row96 col2\" >0.000000</td>\n                        <td id=\"T_e3b58_row96_col3\" class=\"data row96 col3\" >0</td>\n            </tr>\n            <tr>\n                        <th id=\"T_e3b58_level0_row97\" class=\"row_heading level0 row97\" >Doc97</th>\n                        <td id=\"T_e3b58_row97_col0\" class=\"data row97 col0\" >0.990000</td>\n                        <td id=\"T_e3b58_row97_col1\" class=\"data row97 col1\" >0.010000</td>\n                        <td id=\"T_e3b58_row97_col2\" class=\"data row97 col2\" >0.010000</td>\n                        <td id=\"T_e3b58_row97_col3\" class=\"data row97 col3\" >0</td>\n            </tr>\n            <tr>\n                        <th id=\"T_e3b58_level0_row98\" class=\"row_heading level0 row98\" >Doc98</th>\n                        <td id=\"T_e3b58_row98_col0\" class=\"data row98 col0\" >0.990000</td>\n                        <td id=\"T_e3b58_row98_col1\" class=\"data row98 col1\" >0.010000</td>\n                        <td id=\"T_e3b58_row98_col2\" class=\"data row98 col2\" >0.010000</td>\n                        <td id=\"T_e3b58_row98_col3\" class=\"data row98 col3\" >0</td>\n            </tr>\n            <tr>\n                        <th id=\"T_e3b58_level0_row99\" class=\"row_heading level0 row99\" >Doc99</th>\n                        <td id=\"T_e3b58_row99_col0\" class=\"data row99 col0\" >0.990000</td>\n                        <td id=\"T_e3b58_row99_col1\" class=\"data row99 col1\" >0.000000</td>\n                        <td id=\"T_e3b58_row99_col2\" class=\"data row99 col2\" >0.000000</td>\n                        <td id=\"T_e3b58_row99_col3\" class=\"data row99 col3\" >0</td>\n            </tr>\n            <tr>\n                        <th id=\"T_e3b58_level0_row100\" class=\"row_heading level0 row100\" >Doc100</th>\n                        <td id=\"T_e3b58_row100_col0\" class=\"data row100 col0\" >0.990000</td>\n                        <td id=\"T_e3b58_row100_col1\" class=\"data row100 col1\" >0.000000</td>\n                        <td id=\"T_e3b58_row100_col2\" class=\"data row100 col2\" >0.000000</td>\n                        <td id=\"T_e3b58_row100_col3\" class=\"data row100 col3\" >0</td>\n            </tr>\n            <tr>\n                        <th id=\"T_e3b58_level0_row101\" class=\"row_heading level0 row101\" >Doc101</th>\n                        <td id=\"T_e3b58_row101_col0\" class=\"data row101 col0\" >0.990000</td>\n                        <td id=\"T_e3b58_row101_col1\" class=\"data row101 col1\" >0.010000</td>\n                        <td id=\"T_e3b58_row101_col2\" class=\"data row101 col2\" >0.010000</td>\n                        <td id=\"T_e3b58_row101_col3\" class=\"data row101 col3\" >0</td>\n            </tr>\n            <tr>\n                        <th id=\"T_e3b58_level0_row102\" class=\"row_heading level0 row102\" >Doc102</th>\n                        <td id=\"T_e3b58_row102_col0\" class=\"data row102 col0\" >0.990000</td>\n                        <td id=\"T_e3b58_row102_col1\" class=\"data row102 col1\" >0.000000</td>\n                        <td id=\"T_e3b58_row102_col2\" class=\"data row102 col2\" >0.000000</td>\n                        <td id=\"T_e3b58_row102_col3\" class=\"data row102 col3\" >0</td>\n            </tr>\n            <tr>\n                        <th id=\"T_e3b58_level0_row103\" class=\"row_heading level0 row103\" >Doc103</th>\n                        <td id=\"T_e3b58_row103_col0\" class=\"data row103 col0\" >0.990000</td>\n                        <td id=\"T_e3b58_row103_col1\" class=\"data row103 col1\" >0.010000</td>\n                        <td id=\"T_e3b58_row103_col2\" class=\"data row103 col2\" >0.010000</td>\n                        <td id=\"T_e3b58_row103_col3\" class=\"data row103 col3\" >0</td>\n            </tr>\n            <tr>\n                        <th id=\"T_e3b58_level0_row104\" class=\"row_heading level0 row104\" >Doc104</th>\n                        <td id=\"T_e3b58_row104_col0\" class=\"data row104 col0\" >0.990000</td>\n                        <td id=\"T_e3b58_row104_col1\" class=\"data row104 col1\" >0.010000</td>\n                        <td id=\"T_e3b58_row104_col2\" class=\"data row104 col2\" >0.010000</td>\n                        <td id=\"T_e3b58_row104_col3\" class=\"data row104 col3\" >0</td>\n            </tr>\n    </tbody></table>"
     },
     "metadata": {},
     "execution_count": 404
    }
   ],
   "source": [
    "# Create Document — Topic Matrix\n",
    "lda_output = best_lda_model.transform(data_vectorized)\n",
    "# column names\n",
    "topicnames = [\"Topic\" + str(i) for i in range(best_lda_model.n_components)]\n",
    "# index names\n",
    "docnames = [\"Doc\" + str(i) for i in range(len(data))]\n",
    "# Make the pandas dataframe\n",
    "df_document_topic = pd.DataFrame(np.round(lda_output, 2), columns=topicnames, index=docnames)\n",
    "# Get dominant topic for each document\n",
    "dominant_topic = np.argmax(df_document_topic.values, axis=1)\n",
    "df_document_topic['dominant_topic'] = dominant_topic\n",
    "# Styling\n",
    "def color_green(val):\n",
    " color = 'green' if val > .1 else 'black'\n",
    " return 'color: {col}'.format(col=color)\n",
    "def make_bold(val):\n",
    " weight = 700 if val > .1 else 400\n",
    " return 'font-weight: {weight}'.format(weight=weight)\n",
    "# Apply Style\n",
    "df_document_topics = df_document_topic.style.applymap(color_green).applymap(make_bold)\n",
    "df_document_topics"
   ]
  },
  {
   "cell_type": "code",
   "execution_count": 405,
   "metadata": {},
   "outputs": [
    {
     "output_type": "execute_result",
     "data": {
      "text/plain": [
       "         Word 0 Word 1    Word 2      Word 3 Word 4       Word 5      Word 6  \\\n",
       "Topic 0   learn   aren     email      python  datum  programming         app   \n",
       "Topic 1   email  datum  software         app   help        guide        aren   \n",
       "Topic 2  python  learn     datum  javascript  email      project  curriculum   \n",
       "\n",
       "              Word 7 Word 8 Word 9  ...  Word 20  Word 21  Word 22 Word 23  \\\n",
       "Topic 0      science   work  react  ...  youtube  support   design    good   \n",
       "Topic 1  programming    job  watch  ...      tip   create  project    game   \n",
       "Topic 2     computer    app   aren  ...      job   create      way    help   \n",
       "\n",
       "             Word 24    Word 25      Word 26  Word 27    Word 28   Word 29  \n",
       "Topic 0         game      video  development  website      thing  tutorial  \n",
       "Topic 1       course  interview      youtube    basic  structure  computer  \n",
       "Topic 2  development      world          end    write       work   youtube  \n",
       "\n",
       "[3 rows x 30 columns]"
      ],
      "text/html": "<div>\n<style scoped>\n    .dataframe tbody tr th:only-of-type {\n        vertical-align: middle;\n    }\n\n    .dataframe tbody tr th {\n        vertical-align: top;\n    }\n\n    .dataframe thead th {\n        text-align: right;\n    }\n</style>\n<table border=\"1\" class=\"dataframe\">\n  <thead>\n    <tr style=\"text-align: right;\">\n      <th></th>\n      <th>Word 0</th>\n      <th>Word 1</th>\n      <th>Word 2</th>\n      <th>Word 3</th>\n      <th>Word 4</th>\n      <th>Word 5</th>\n      <th>Word 6</th>\n      <th>Word 7</th>\n      <th>Word 8</th>\n      <th>Word 9</th>\n      <th>...</th>\n      <th>Word 20</th>\n      <th>Word 21</th>\n      <th>Word 22</th>\n      <th>Word 23</th>\n      <th>Word 24</th>\n      <th>Word 25</th>\n      <th>Word 26</th>\n      <th>Word 27</th>\n      <th>Word 28</th>\n      <th>Word 29</th>\n    </tr>\n  </thead>\n  <tbody>\n    <tr>\n      <th>Topic 0</th>\n      <td>learn</td>\n      <td>aren</td>\n      <td>email</td>\n      <td>python</td>\n      <td>datum</td>\n      <td>programming</td>\n      <td>app</td>\n      <td>science</td>\n      <td>work</td>\n      <td>react</td>\n      <td>...</td>\n      <td>youtube</td>\n      <td>support</td>\n      <td>design</td>\n      <td>good</td>\n      <td>game</td>\n      <td>video</td>\n      <td>development</td>\n      <td>website</td>\n      <td>thing</td>\n      <td>tutorial</td>\n    </tr>\n    <tr>\n      <th>Topic 1</th>\n      <td>email</td>\n      <td>datum</td>\n      <td>software</td>\n      <td>app</td>\n      <td>help</td>\n      <td>guide</td>\n      <td>aren</td>\n      <td>programming</td>\n      <td>job</td>\n      <td>watch</td>\n      <td>...</td>\n      <td>tip</td>\n      <td>create</td>\n      <td>project</td>\n      <td>game</td>\n      <td>course</td>\n      <td>interview</td>\n      <td>youtube</td>\n      <td>basic</td>\n      <td>structure</td>\n      <td>computer</td>\n    </tr>\n    <tr>\n      <th>Topic 2</th>\n      <td>python</td>\n      <td>learn</td>\n      <td>datum</td>\n      <td>javascript</td>\n      <td>email</td>\n      <td>project</td>\n      <td>curriculum</td>\n      <td>computer</td>\n      <td>app</td>\n      <td>aren</td>\n      <td>...</td>\n      <td>job</td>\n      <td>create</td>\n      <td>way</td>\n      <td>help</td>\n      <td>development</td>\n      <td>world</td>\n      <td>end</td>\n      <td>write</td>\n      <td>work</td>\n      <td>youtube</td>\n    </tr>\n  </tbody>\n</table>\n<p>3 rows × 30 columns</p>\n</div>"
     },
     "metadata": {},
     "execution_count": 405
    }
   ],
   "source": [
    "# Show top n keywords for each topic\n",
    "def show_topics(vectorizer=vectorizer, lda_model=lda_model, n_words=20):\n",
    "    keywords = np.array(vectorizer.get_feature_names())\n",
    "    topic_keywords = []\n",
    "    for topic_weights in lda_model.components_:\n",
    "        top_keyword_locs = (-topic_weights).argsort()[:n_words]\n",
    "        topic_keywords.append(keywords.take(top_keyword_locs))\n",
    "    return topic_keywords\n",
    "topic_keywords = show_topics(vectorizer=vectorizer, lda_model=best_lda_model, n_words=30)\n",
    "# Topic - Keywords Dataframe\n",
    "df_topic_keywords = pd.DataFrame(topic_keywords)\n",
    "df_topic_keywords.columns = ['Word '+str(i) for i in range(df_topic_keywords.shape[1])]\n",
    "df_topic_keywords.index = ['Topic '+str(i) for i in range(df_topic_keywords.shape[0])]\n",
    "df_topic_keywords"
   ]
  },
  {
   "cell_type": "code",
   "execution_count": null,
   "metadata": {},
   "outputs": [],
   "source": [
    "Topics = [\"Programming\",\"Interviews/Job\",\"Learn and Share\",\"Card Payment\",\"Notification/Support\", \n",
    "          \"Account Problem\", \"Device/Design/Password\", \"Language/Recommend/Screen Size\", \"Graphic/ Game Design/ Level and Coin\", \"Photo/Search\"]\n",
    "df_topic_keywords[\"Topics\"]=Topics\n",
    "df_topic_keywords\n"
   ]
  },
  {
   "cell_type": "code",
   "execution_count": null,
   "metadata": {},
   "outputs": [],
   "source": [
    "# Define function to predict topic for a given text document.\n",
    "nlp = spacy.load('en', disable=['parser', 'ner'])\n",
    "\n",
    "def predict_topic(text, nlp=nlp):\n",
    "    global sent_to_words\n",
    "    global lemmatization\n",
    "# Step 1: Clean with simple_preprocess\n",
    "    mytext_2 = list(sent_to_words(text))\n",
    "# Step 2: Lemmatize\n",
    "    mytext_3 = lemmatization(mytext_2, allowed_postags=['NOUN', 'ADJ', 'VERB', 'ADV'])\n",
    "# Step 3: Vectorize transform\n",
    "    mytext_4 = vectorizer.transform(mytext_3)\n",
    "# Step 4: LDA Transform\n",
    "    topic_probability_scores = best_lda_model.transform(mytext_4)\n",
    "    topic = df_topic_keywords.iloc[np.argmax(topic_probability_scores), 1:14].values.tolist()\n",
    "    \n",
    "    # Step 5: Infer Topic\n",
    "    infer_topic = df_topic_keywords.iloc[np.argmax(topic_probability_scores), -1]\n",
    "    \n",
    "    #topic_guess = df_topic_keywords.iloc[np.argmax(topic_probability_scores), Topics]\n",
    "    return infer_topic, topic, topic_probability_scores\n",
    "\n",
    "# Predict the topic\n",
    "mytext = [\"Here are this week's five links that are worth your time: \\\n",
    "1. If you used the internet today, you probably used NGINX. It's a powerful web server that most major websites use to handle traffic. And freeCodeCamp just published a free full-length NGINX book that will show you how to use this web server tool for routing, reverse proxying, and even load balancing. (2 hour read): https://www.freecodecamp.org/news/the-nginx-handbook/ \\\n",
    "2. You can also learn the MERN Stack by building your own Yelp-like restaurant review site. MERN stands for MongoDB + Express + React + Node.js. Then in the second half of the course, you'll learn how to swap out your Node.js/Express back end in favor of Serverless Architecture. (3 hour YouTube course): https://www.freecodecamp.org/news/create-a-mern-stack-app-with-a-serverless-backend/\\\n",
    "3. Learn how to create your own 3D graphics using OpenGL. You'll work with polygons, textures, shaders, and other important rendering tools. (2 hour YouTube course): https://www.freecodecamp.org/news/how-to-create-3d-and-2d-graphics-with-opengl-and-cpp/\\\n",
    "4. If you're learning Python, I encourage you to bookmark this. Prolific teacher and developer Estefania walks you through dozens of Python syntax examples that all beginners should learn. Data structures, loops, exception handling, dependency inclusion – everything. (90 minute read): https://www.freecodecamp.org/news/python-code-examples-sample-script-coding-tutorial-for-beginners/\\\n",
    "5. And while you're expanding your Python skills, you can learn how to do back end web development using the popular Python Django framework. You'll build data visualization web apps using Pandas dataframes, Matplotlib, and Seaborn. You'll also work with PDF rendering and even base-64 encoding. (7 hour YouTube course): https://www.freecodecamp.org/news/learn-django-3-and-start-creating-websites-with-python/\\\n",
    "Finally, a quick update on freeCodeCamp's Data Science Curriculum Expansion. We're designing 12 new certifications that will teach advanced mathematics, computer science, and machine learning. So far 2,031 people have donated to ensure that our nonprofit has a big enough budget to hire experienced teachers. You can learn more and get involved here: https://www.freecodecamp.org/news/building-a-data-science-curriculum-with-advanced-math-and-machine-learning/\\\n",
    "Quote of the Week: “Anytime someone builds a little application that runs on a cell phone, there's something that goes on the server.” – James Gosling, creator of the Java programming language\\\n",
    "Happy coding.\\\n",
    "- Quincy Larson \\\n",
    "Teacher at https://www.freecodecamp.org\\\n",
    "I share useful things on Twitter at https://www.twitter.com/ossia \\\n",
    "If these emails aren't worth your time, you can turn them off: https://www.freecodecamp.org/ue/YSTttLxqo1nneGosGnvB\"] \n",
    "\n",
    "infer_topic, topic, prob_scores = predict_topic(text = mytext)\n",
    "print(topic)\n",
    "print(infer_topic)"
   ]
  }
 ]
}